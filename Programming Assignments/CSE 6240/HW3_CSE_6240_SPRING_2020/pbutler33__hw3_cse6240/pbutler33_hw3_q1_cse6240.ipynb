{
 "cells": [
  {
   "cell_type": "markdown",
   "metadata": {
    "colab_type": "text",
    "id": "-lgZlHI45xhp"
   },
   "source": [
    "# Q1.Decision Based Diffusion[50 Points]"
   ]
  },
  {
   "cell_type": "markdown",
   "metadata": {
    "colab_type": "text",
    "id": "HNFLyCHL5_df"
   },
   "source": [
    "## 0-A. Set-up[-2 if author function is not called]"
   ]
  },
  {
   "cell_type": "code",
   "execution_count": 1,
   "metadata": {
    "colab": {},
    "colab_type": "code",
    "id": "qXNVNyxD7Q-n"
   },
   "outputs": [
    {
     "name": "stdout",
     "output_type": "stream",
     "text": [
      "This assignment is submitted by pbutler33.\n"
     ]
    }
   ],
   "source": [
    "def author(gt_username = 'pbutler33'):\n",
    "  print(\"This assignment is submitted by {0}.\".format(gt_username))\n",
    "#Add your GT_UserName below and uncomment the line.\n",
    "author()"
   ]
  },
  {
   "cell_type": "code",
   "execution_count": 2,
   "metadata": {
    "colab": {
     "base_uri": "https://localhost:8080/",
     "height": 34
    },
    "colab_type": "code",
    "id": "3zvDIWSd8OwX",
    "outputId": "f236e8ac-efe0-4a66-d148-4fa77a9fcdba"
   },
   "outputs": [
    {
     "name": "stdout",
     "output_type": "stream",
     "text": [
      "Requirement already satisfied: snap-stanford in c:\\users\\ptbut\\anaconda3\\lib\\site-packages (5.0.0)\n"
     ]
    }
   ],
   "source": [
    "#Installations\n",
    "!pip install snap-stanford"
   ]
  },
  {
   "cell_type": "code",
   "execution_count": 3,
   "metadata": {
    "colab": {},
    "colab_type": "code",
    "id": "zbcIy6x69kC9"
   },
   "outputs": [],
   "source": [
    "import snap\n",
    "import matplotlib.pyplot as plt\n",
    "import numpy as np\n",
    "\n",
    "\n",
    "# Setup\n",
    "num_voters = 10000\n",
    "decision_period = 10"
   ]
  },
  {
   "cell_type": "markdown",
   "metadata": {
    "colab_type": "text",
    "id": "jHA8sZ426gzj"
   },
   "source": [
    "## 0-B. Utility Functions[25 Points]"
   ]
  },
  {
   "cell_type": "code",
   "execution_count": 4,
   "metadata": {
    "colab": {},
    "colab_type": "code",
    "id": "gfpGnZLf96W1"
   },
   "outputs": [],
   "source": [
    "#Utility functions:\n",
    "def read_graph(path):\n",
    "    \"\"\"\n",
    "    Function to read the .txt file to load the undirected graph.\n",
    "    \n",
    "    Args: path: path to edge list file\n",
    "    Returns: Graph: loaded Graph(snap.PUNGraph)\n",
    "\n",
    "    \"\"\"\n",
    "    Graph = None\n",
    "    ### Add your code here.[1 Point]\n",
    "    Graph = snap.LoadEdgeList(snap.PUNGraph, path)\n",
    "    ######################\n",
    "\n",
    "    return Graph\n",
    "\n",
    "def get_neighbors(graph,nodeId):\n",
    "    \"\"\"\n",
    "    Function to get all neighbours of a node in a given graph.\n",
    "\n",
    "    Arg: graph:  snap.PUNGraph object representing an undirected graph\n",
    "         nodeId: An integer in the range of (0,num_voters-1)(inclusive)\n",
    "    Returns: neighbours : List of neighbouring nodes\n",
    "\n",
    "    \"\"\"\n",
    "    neighbours = None\n",
    "    ### Add your code here.[2 Points]\n",
    "    neighbours = list(graph.GetNI(nodeId).GetOutEdges())\n",
    "    ######################\n",
    "    return neighbours\n",
    "\n",
    "def get_vote_count(nodeset, pref, letter):\n",
    "    \"\"\"\n",
    "    Function to get the vote counts for a particular candidate(letter) given a nodeset and their preferences\n",
    "\n",
    "    Args: nodeset: Set of Graph Nodes\n",
    "         pref: preference mapping\n",
    "         letter: Candidate letter\n",
    "    Returns: vote_count : Vote count for the given candidate\n",
    "\n",
    "    \"\"\"\n",
    "    vote_count = None\n",
    "    ### Add your code here.[1 Point]\n",
    "    vote_count = len([i for i in nodeset if pref[i]==letter])\n",
    "\n",
    "    ######################\n",
    "    return vote_count\n",
    "\n",
    "def winner(pref):\n",
    "    \"\"\"\n",
    "    Function to get the winner of election process.(Please use the appropriate utitlity function(s) as required.)\n",
    "\n",
    "    Args: pref: Dictionary object mapping node ids to the voting preferences\n",
    "    Returns: winner: Winning candidate character(char)\n",
    "             margin: Margin of victory or loss for A(i.e. margin = a_count - b_count)\n",
    "\n",
    "    Note: Please note that for margin calculation we're NOT taking the absolute value.\n",
    "    \"\"\"\n",
    "    winner = None\n",
    "    margin = None\n",
    "    ### Add your code here.[3 Points]\n",
    "    a_count = get_vote_count(pref.keys(), pref, 'A')\n",
    "    b_count = get_vote_count(pref.keys(), pref, 'B')\n",
    "    margin = a_count - b_count\n",
    "    if margin >= 0:\n",
    "        winner = 'A'\n",
    "    else:\n",
    "        winner = 'B'\n",
    "    \n",
    "    ######################\n",
    "    return winner, margin\n",
    "\n",
    "def sort_nodes_by_popularity(graph):\n",
    "    \"\"\"\n",
    "    Function to sort all nodes of the given graph in descending order of their popularity(degree).\n",
    "\n",
    "    Args: graph: snap.PUNGraph object representing an undirected graph\n",
    "    Returns: ids: NodeIds list sorted based on their degrees(Descending order)\n",
    "             degrees: Degrees corresponding to the above node Ids.(Should have one to one correspondence with the above ids list)\n",
    "\n",
    "    Example output(dummy): ids: [2,1,3,0]\n",
    "                           degrees: [3,2,2,0] Note that both node 1 and 3 have the same degree, so the node with the lowest id\n",
    "                                              comes first.(Please refer to the question for details)\n",
    "\n",
    "    \"\"\"\n",
    "    degrees = []\n",
    "    ids = []\n",
    "    ### Add your code here.[5 Points]\n",
    "    for i in graph.Nodes():\n",
    "        ids.append(i.GetId())\n",
    "        degrees.append(i.GetOutDeg())\n",
    "    \n",
    "    arr = np.array([z for z in zip(ids, degrees)], dtype = [('id', 'int32'), ('deg', 'int32')])\n",
    "    arr['deg'] *= -1\n",
    "    idx = np.argsort(arr, order=('deg', 'id'))\n",
    "    \n",
    "    degrees = list(np.array(degrees)[idx])\n",
    "    ids = list(np.array(ids)[idx])\n",
    "    ######################\n",
    "    for i in range(1, len(degrees)):\n",
    "        assert(degrees[i] <= degrees[i-1])\n",
    "\n",
    "    return ids, degrees\n",
    "\n",
    "def initial_voting_state(Graph):\n",
    "    \"\"\"\n",
    "    Function to initialize the voting preferences.\n",
    "\n",
    "    Args: Graph: snap.PUNGraph object representing an undirected graph\n",
    "    Returns: voter_prefs: Dictionary mapping node IDs to initial voter preference\n",
    "            ('A', 'B', or 'U')\n",
    "    Note: 'U' denotes undecided voting preference.\n",
    "\n",
    "    Example: Some random key-value pairs of the dict are\n",
    "             {0 : 'A', 24 : 'B', 118 : 'U'}.\n",
    "    \"\"\"\n",
    "    voter_prefs = {}\n",
    "\n",
    "    ### Add your code here.[4 Points]\n",
    "    for i in Graph.Nodes():\n",
    "        nid = i.GetId()\n",
    "        if nid%10 in [0, 1, 2, 3]:\n",
    "            voter_prefs[nid] = 'A'\n",
    "        elif nid%10 in [4, 5, 6, 7]:\n",
    "            voter_prefs[nid] = 'B'\n",
    "        else:\n",
    "            voter_prefs[nid] = 'U'\n",
    "\n",
    "    ######################\n",
    "    assert(len(voter_prefs) == num_voters)\n",
    "    return voter_prefs\n",
    "\n",
    "def iterate_voting(Graph, init_pref):\n",
    "    \"\"\"\n",
    "    Function to perform the 10-day decision process.\n",
    "\n",
    "    Args: Graph: snap.PUNGraph object representing an undirected graph\n",
    "         init_pref: Dictionary object containing the initial voting\n",
    "                    preferences (before any iteration of the decision\n",
    "                    process)\n",
    "    Returns: curr_pref: Dictionary containing the voting preferences (mapping node IDs to\n",
    "                        'A','B' or 'U') after the decision process.\n",
    "\n",
    "    Hint: Use global variables num_voters and decision_period to iterate.\n",
    "    \"\"\"\n",
    "    curr_pref = init_pref.copy()\n",
    "    curr_alternating_vote = 'A'\n",
    "\n",
    "    ### Add your code here.[7 Points]\n",
    "    undecided = [i for i in init_pref.keys() if init_pref[i] == 'U'] # list of voters who may change their minds\n",
    "    undecided.sort()\n",
    "    for d in range(decision_period):\n",
    "        for u in undecided:\n",
    "            friends = get_neighbors(Graph, u)\n",
    "            a_count = get_vote_count(friends, curr_pref, 'A')\n",
    "            b_count = get_vote_count(friends, curr_pref, 'B')\n",
    "            if a_count > b_count:\n",
    "                curr_pref[u] = 'A'\n",
    "            elif b_count > a_count:\n",
    "                curr_pref[u] = 'B'\n",
    "            else:\n",
    "                curr_pref[u] = curr_alternating_vote\n",
    "                if curr_alternating_vote == 'A':\n",
    "                    curr_alternating_vote = 'B'\n",
    "                elif curr_alternating_vote == 'B':\n",
    "                    curr_alternating_vote = 'A'\n",
    "            \n",
    "    ######################\n",
    "    return curr_pref\n",
    "\n",
    "def sim_election(Graph):\n",
    "    \"\"\"\n",
    "    Function to simulate the election process, takes the Graph as input and\n",
    "    gives the final voting preferences (dictionary) as output.\n",
    "\n",
    "    Args: Graph: snap.PUNGraph object representing an undirected graph\n",
    "    Returns: pref: Dictionary containing the voting preferences (mapping node IDs to\n",
    "                        'A','B' or 'U') after the decision process.\n",
    "    \"\"\"\n",
    "    ### Add your code here.[2 Points]\n",
    "    init_pref = initial_voting_state(Graph)\n",
    "    pref = iterate_voting(Graph, init_pref)\n",
    "    ######################\n",
    "    \n",
    "\n",
    "    return pref"
   ]
  },
  {
   "cell_type": "markdown",
   "metadata": {
    "colab_type": "text",
    "id": "6LfjzAu87PLF"
   },
   "source": [
    "## 1. Basic Setup and Simulation[3 Points]"
   ]
  },
  {
   "cell_type": "markdown",
   "metadata": {
    "colab_type": "text",
    "id": "bXj6jY157Xna"
   },
   "source": [
    "### 1-A. Utility Functions"
   ]
  },
  {
   "cell_type": "markdown",
   "metadata": {
    "colab_type": "text",
    "id": "3wxnlk_g8s5j"
   },
   "source": [
    "For this part you should complete the following utility functions:\n",
    "\n",
    "\n",
    "1.   read_graph\n",
    "2.   get_neighbors\n",
    "3.   get_vote_count\n",
    "4.   winner\n",
    "4.   initial_voting_state\n",
    "5.   iterate_voting\n",
    "6.   sim_election\n",
    "\n"
   ]
  },
  {
   "cell_type": "markdown",
   "metadata": {
    "colab_type": "text",
    "id": "BT1kkez79aio"
   },
   "source": [
    "### 1-B. Part 1 Simulation[3 Points]"
   ]
  },
  {
   "cell_type": "code",
   "execution_count": 5,
   "metadata": {
    "colab": {},
    "colab_type": "code",
    "id": "bG-NCuVgDb_V"
   },
   "outputs": [],
   "source": [
    "#Q1\n",
    "def Q1():\n",
    "    \"\"\"\n",
    "    Function to carry out part 1.(Please use the appropriate utitlity function(s) as required.)\n",
    "    You should be carrying out the following steps:\n",
    "    1) Load the graphs.\n",
    "    2) Simulate the election and find final preferences.\n",
    "    3) Get the winner for both the networks.\n",
    "    \"\"\"\n",
    "\n",
    "    print (\"\\nQ1:\")\n",
    "    winners = [] #Stores the Winners of the election for both graphs\n",
    "    ### Add your code here.\n",
    "    graph1 = read_graph('graph1.txt')\n",
    "    graph2 = read_graph('graph2.txt')\n",
    "    pref1 = sim_election(graph1)\n",
    "    pref2 = sim_election(graph2)\n",
    "    winners.append(winner(pref1))\n",
    "    winners.append(winner(pref2))\n",
    "    ########################\n",
    "\n",
    "    for i in range(2):\n",
    "        print (\"In graph {0}, candidate {1} wins by {2} votes\".format(\n",
    "                i+1, winners[i][0], abs(winners[i][1])))"
   ]
  },
  {
   "cell_type": "markdown",
   "metadata": {
    "colab_type": "text",
    "id": "L5UkYrLj9lrS"
   },
   "source": [
    "## 2. TV Advertising [10 Points]"
   ]
  },
  {
   "cell_type": "code",
   "execution_count": 6,
   "metadata": {
    "colab": {},
    "colab_type": "code",
    "id": "Csc4vnjVLyZZ"
   },
   "outputs": [],
   "source": [
    "#Q2\n",
    "def Q2sim(Graph, k):\n",
    "    \"\"\"\n",
    "    Function to simulate the effect of advertising.(Please use the appropriate utitlity function(s) as required.)\n",
    "    Args: Graph: snap.PUNGraph object representing an undirected graph\n",
    "         k: amount to be spent on advertising\n",
    "    Returns: margin: The number of votes by which A wins (or loses), i.e. (number of\n",
    "            votes of A - number of votes of B)\n",
    "\n",
    "    \"\"\"\n",
    "    margin = None\n",
    "    ### Add your code here.[3 Points]\n",
    "    init_pref = initial_voting_state(Graph)\n",
    "    for v in range(3000, int((3000 + k/100)//1)):\n",
    "        init_pref[v] = 'A'\n",
    "    final_pref = iterate_voting(Graph, init_pref)\n",
    "    win, margin = winner(final_pref)\n",
    "    ########################\n",
    "    return margin\n",
    "\n",
    "def find_min_k(diffs):\n",
    "    \"\"\"\n",
    "    Function to return the minimum advertising amount needed for A to win.\n",
    "    Args: diffs: list of (k, diff), where diff is the value by which A wins\n",
    "                (or loses) i.e. (A-B), for that k.\n",
    "    Returns: min_ad_amount: The minimum amount needed for A to win\n",
    "\n",
    "    \"\"\"\n",
    "    min_ad_amount = None\n",
    "    ### Add your code here.[3 Points]\n",
    "    diffs.sort(key=lambda x: x[0])\n",
    "    for j in diffs:\n",
    "        if j[1] > 0:\n",
    "            min_ad_amount = j[0]\n",
    "            break\n",
    "    ########################\n",
    "    return min_ad_amount\n",
    "\n",
    "def make_plot(res, title):\n",
    "    \"\"\"\n",
    "    Function to plot the amount spent(x-axis)(for values k = 1000; 2000; : : : ; 9000) \n",
    "    and the number of votes the candidate A wins or loses(A-B) by(y-axis).\n",
    "    Args: res: The list of 2 sublists for 2 graphs. Each sublist is a list\n",
    "                  of (k, diff) pair, where k is the amount spent, and diff is\n",
    "                  the difference in votes (A-B).\n",
    "         title: The title of the plot\n",
    "    Note: For Graph 1 please use green color and label it as 'Graph1' and for graph2 use red color and label it as 'Graph2'\n",
    "    \"\"\"\n",
    "    Ks = [[k for k, diff in sub] for sub in res]\n",
    "    res = [[diff for k, diff in sub] for sub in res]\n",
    "    plt.plot(Ks[0], [0.0] * len(Ks[0]), ':', color='black')\n",
    "    ### Add your code here.[2 Point]\n",
    "    plt.plot(Ks[0], res[0], color='green', label = 'Graph1')\n",
    "    plt.plot(Ks[1], res[1], color='red', label = 'Graph2')\n",
    "    ########################\n",
    "    plt.xlabel('Amount spent ($)')\n",
    "    plt.ylabel('#votes for A - #votes for B')\n",
    "    plt.title(title)\n",
    "    plt.legend()\n",
    "    plt.show()\n",
    "\n",
    "def Q2():\n",
    "    \"\"\"\n",
    "    Function to carry out part 2.(Please use the appropriate utitlity function(s) as required.)\n",
    "    You should be carrying out the following steps:\n",
    "    1) Load the graphs.\n",
    "    2) Run Q2 Simulations(for details please refer to the question) and find the vote difference(A-B) for each k\n",
    "    3) Find the minimum amount needed for 'A' to win the election.\n",
    "    4) Plot $k (the amount you spend) on the x-axis (for values k =\n",
    "       1000; 2000; : : : ; 9000) and the number of votes for A minus the number of votes for B on the y-axis.\n",
    "    \"\"\"\n",
    "    print (\"\\nQ2:\")\n",
    "    res = None #To be used by make_plot(), check it's documentation for details\n",
    "    Ks = [x * 1000 for x in range(1, 10)] #List of possible ad amounts.\n",
    "    ### Add your code here.[2 Points]\n",
    "    graph1 = read_graph('graph1.txt')\n",
    "    graph2 = read_graph('graph2.txt')\n",
    "    res1 = [(k, Q2sim(graph1, k)) for k in Ks]\n",
    "    res2 = [(k, Q2sim(graph2, k)) for k in Ks]\n",
    "    res = [res1, res2]\n",
    "    min_k = [find_min_k(res1), find_min_k(res2)]\n",
    "    ########################\n",
    "\n",
    "    for i in range(2):\n",
    "        print(\"On graph {0}, the minimum amount you can spend to win is {1}\".format(i + 1, min_k[i]))\n",
    "\n",
    "    make_plot(res, 'TV Advertising')\n",
    "\n"
   ]
  },
  {
   "cell_type": "markdown",
   "metadata": {
    "colab_type": "text",
    "id": "QxPH3gyK-b6X"
   },
   "source": [
    "## 3. Wining and Dining [6 Points]"
   ]
  },
  {
   "cell_type": "markdown",
   "metadata": {
    "colab_type": "text",
    "id": "efhFS0Py-y2q"
   },
   "source": [
    "### 3-A. Utility Functions"
   ]
  },
  {
   "cell_type": "markdown",
   "metadata": {
    "colab_type": "text",
    "id": "7fGZ9yux-2uH"
   },
   "source": [
    "For this part you should complete the following utility functions:\n",
    "\n",
    "\n",
    "1.   sort_nodes_by_popularity"
   ]
  },
  {
   "cell_type": "markdown",
   "metadata": {
    "colab_type": "text",
    "id": "DCDncH31-6ID"
   },
   "source": [
    "### 3-B. Part 3 Simulation"
   ]
  },
  {
   "cell_type": "code",
   "execution_count": 7,
   "metadata": {
    "colab": {},
    "colab_type": "code",
    "id": "FvajqKFQk5r5"
   },
   "outputs": [],
   "source": [
    "#Q3\n",
    "def Q3sim(Graph, k):\n",
    "    \"\"\"\n",
    "    Function to simulate the effect of a dining event(Part 3).\n",
    "\n",
    "    Args: Graph: snap.PUNGraph object representing an undirected graph\n",
    "         k: amount to be spent on the dining event\n",
    "    Returns: margin: The number of votes by which A wins (or loses), i.e. (number of\n",
    "            votes of A - number of votes of B)\n",
    "    \n",
    "    \"\"\"\n",
    "    margin = None\n",
    "    ### Add your code here.[4 Points]\n",
    "    init_pref = initial_voting_state(Graph)\n",
    "    ids, _ = sort_nodes_by_popularity(Graph)\n",
    "    for i in range(int(k//1000)):\n",
    "        init_pref[ids[i]] = 'A'\n",
    "    final_pref  = iterate_voting(Graph, init_pref)\n",
    "    win, margin = winner(final_pref)\n",
    "    ########################\n",
    "    return margin\n",
    "\n",
    "def Q3():\n",
    "    \"\"\"\n",
    "    Function to carry out part 3.(Please use the appropriate utitlity function(s) as required.)\n",
    "    You should be carrying out the following steps(Similar to part 2):\n",
    "    1) Load the graphs.\n",
    "    2) Run Q3 Simulations(for details please refer to the question) and find the vote difference(A-B) for each k\n",
    "    3) Find the minimum amount needed for 'A' to win the election.\n",
    "    4) Plot $k (the amount you spend) on the x-axis (for values k =\n",
    "       1000; 2000; : : : ; 9000) and the number of votes for A minus the number of votes for B on the y-axis.\n",
    "    \"\"\"\n",
    "    print (\"\\nQ3:\")\n",
    "    Ks = [x * 1000 for x in range(1, 10)] # List of amount of $ spent\n",
    "    ### Add your code here.[2 Points]\n",
    "    graph1 = read_graph('graph1.txt')\n",
    "    graph2 = read_graph('graph2.txt')\n",
    "    res1 = [(k, Q3sim(graph1, k)) for k in Ks]\n",
    "    res2 = [(k, Q3sim(graph2, k)) for k in Ks]\n",
    "    res = [res1, res2]\n",
    "    min_k = [find_min_k(res1), find_min_k(res2)]\n",
    "    ########################\n",
    "    for i in range(2):\n",
    "        print(\"On graph {0}, the minimum amount you can spend to win is {1}\".format(i + 1, min_k[i]))\n",
    "\n",
    "    make_plot(res, 'Wining and Dining')"
   ]
  },
  {
   "cell_type": "markdown",
   "metadata": {
    "colab_type": "text",
    "id": "5a1sKiZD_crB"
   },
   "source": [
    "## 4. Analysis[6 Points]"
   ]
  },
  {
   "cell_type": "code",
   "execution_count": 8,
   "metadata": {
    "colab": {},
    "colab_type": "code",
    "id": "GKkX5-twxE9M"
   },
   "outputs": [],
   "source": [
    "#Q4\n",
    "def get_degree_frequencies(Graph):\n",
    "    \"\"\" Function to return all distinct degree values and frequencies of those degree values(fractional)\n",
    "\n",
    "    Args: Graph: snap.PUNGraph object representing an undirected graph\n",
    "    Returns: degrees: List of degrees(no duplication)\n",
    "             frequencies: List of frequencies: frequencies[i] = fraction of nodes with degree degrees[i]\n",
    "    \"\"\"\n",
    "    \n",
    "    degrees, frequencies = [], []\n",
    "    ### Add your code here.[3 Points]\n",
    "    ids, degs = sort_nodes_by_popularity(Graph)\n",
    "    degrees.append(degs[0])\n",
    "    frequencies.append(1)\n",
    "    for i in range(1, len(degs)):\n",
    "        if degs[i]==degs[i-1]:\n",
    "            frequencies[-1]+=1\n",
    "        else:\n",
    "            degrees.append(degs[i])\n",
    "            frequencies.append(1)\n",
    "    ########################\n",
    "    num_edges = Graph.GetEdges()\n",
    "    frequencies = [f/num_edges for f in frequencies] #get proportions\n",
    "    \n",
    "    return degrees, frequencies\n",
    "\n",
    "def Q4():\n",
    "    \"\"\"\n",
    "    Function to plot the distributions of two given graphs on a log-log scale.\n",
    "    You should be carrying out the following steps:\n",
    "    1) Load the graphs.\n",
    "    2) Get degrees(sorted) and the corresponding frequencies and plot them(loglog plot) for both the graphs.\n",
    "    Note: For Graph 1 use green color and label it as 'Graph1' and for graph2 use red color and label it as 'Graph2'\n",
    "\n",
    "    \"\"\"\n",
    "    print (\"\\nQ4:\")\n",
    "    ### Add your code here.[3 Points]\n",
    "    graph1 = read_graph('graph1.txt')\n",
    "    graph2 = read_graph('graph2.txt')\n",
    "    d1, f1 = get_degree_frequencies(graph1)\n",
    "    d2, f2 = get_degree_frequencies(graph2)\n",
    "\n",
    "    plt.loglog(d1, f1, color='green', label = 'Graph1')\n",
    "    plt.loglog(d2, f2, color='red', label = 'Graph2')\n",
    "    ###########################################################################\n",
    "    plt.xlabel('Node Degree (log)')\n",
    "    plt.ylabel('Proportion of Nodes with a Given Degree (log)')\n",
    "    plt.title('Degree Distribution for Graphs 1 and 2')\n",
    "    plt.legend()"
   ]
  },
  {
   "cell_type": "code",
   "execution_count": 9,
   "metadata": {
    "colab": {},
    "colab_type": "code",
    "id": "Al8stt4hK2jy"
   },
   "outputs": [],
   "source": [
    "def driver():\n",
    "    Q1()\n",
    "    Q2()\n",
    "    Q3()\n",
    "    Q4()"
   ]
  },
  {
   "cell_type": "code",
   "execution_count": 10,
   "metadata": {
    "colab": {},
    "colab_type": "code",
    "id": "7OgvdujkK54y"
   },
   "outputs": [
    {
     "name": "stdout",
     "output_type": "stream",
     "text": [
      "\n",
      "Q1:\n",
      "In graph 1, candidate B wins by 96 votes\n",
      "In graph 2, candidate B wins by 256 votes\n",
      "\n",
      "Q2:\n",
      "On graph 1, the minimum amount you can spend to win is 5000\n",
      "On graph 2, the minimum amount you can spend to win is 7000\n"
     ]
    },
    {
     "data": {
      "image/png": "[encoded data removed]",
      "text/plain": [
       "<Figure size 432x288 with 1 Axes>"
      ]
     },
     "metadata": {
      "needs_background": "light"
     },
     "output_type": "display_data"
    },
    {
     "name": "stdout",
     "output_type": "stream",
     "text": [
      "\n",
      "Q3:\n",
      "On graph 1, the minimum amount you can spend to win is None\n",
      "On graph 2, the minimum amount you can spend to win is 6000\n"
     ]
    },
    {
     "data": {
      "image/png": "[encoded data removed]",
      "text/plain": [
       "<Figure size 432x288 with 1 Axes>"
      ]
     },
     "metadata": {
      "needs_background": "light"
     },
     "output_type": "display_data"
    },
    {
     "name": "stdout",
     "output_type": "stream",
     "text": [
      "\n",
      "Q4:\n"
     ]
    },
    {
     "data": {
      "image/png": "[encoded data removed]",
      "text/plain": [
       "<Figure size 432x288 with 1 Axes>"
      ]
     },
     "metadata": {
      "needs_background": "light"
     },
     "output_type": "display_data"
    }
   ],
   "source": [
    "driver()"
   ]
  },
  {
   "cell_type": "raw",
   "metadata": {},
   "source": [
    "Brief Discussion of Results:\n",
    "\n",
    "Graph1 and Graph2 have the same number of voters and roughly the same number of edges, but the distributions are very different. Graph2 has several voters with very high degree, while Graph1 has a more normal degree distribution; this explains why wining and dining is so much more effective for Graph2."
   ]
  },
  {
   "cell_type": "markdown",
   "metadata": {
    "colab_type": "text",
    "id": "Cp3L0MMS5bmJ"
   },
   "source": [
    "## Deliverables"
   ]
  },
  {
   "cell_type": "markdown",
   "metadata": {
    "colab_type": "text",
    "id": "h7bDopNw5ghr"
   },
   "source": [
    "Run your solved template(make sure all cell outputs are printed as required), convert it into pdf format, rename it to {gt_username}_hw3_q1_cse6240.pdf(e.g. pburdell3_hw3_q1_cse6240.pdf) Add both the .ipynb and .pdf file to the folder {gt_username}_hw3_cse6240, zip it and submit on canvas .[-5 if any instruction is not follwed properly]\n",
    "\n",
    "{gt_username}_hw3_cse6240 >\n",
    "1.   {gt_username}_hw3_q1_cse6240.ipynb\n",
    "2.   {gt_username}_hw3_q1_cse6240.pdf\n",
    "\n"
   ]
  }
 ],
 "metadata": {
  "colab": {
   "collapsed_sections": [],
   "name": "HW3_CSE_6240_Q1_template.ipynb",
   "provenance": []
  },
  "kernelspec": {
   "display_name": "Python 3",
   "language": "python",
   "name": "python3"
  },
  "language_info": {
   "codemirror_mode": {
    "name": "ipython",
    "version": 3
   },
   "file_extension": ".py",
   "mimetype": "text/x-python",
   "name": "python",
   "nbconvert_exporter": "python",
   "pygments_lexer": "ipython3",
   "version": "3.7.3"
  }
 },
 "nbformat": 4,
 "nbformat_minor": 1
}
